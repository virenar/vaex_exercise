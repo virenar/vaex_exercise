{
 "cells": [
  {
   "cell_type": "code",
   "execution_count": 14,
   "metadata": {},
   "outputs": [],
   "source": [
    "import pandas as pd\n",
    "import numpy as np\n",
    "import re\n",
    "import time\n",
    "import os\n",
    "import logging\n",
    "import vaex"
   ]
  },
  {
   "cell_type": "code",
   "execution_count": 15,
   "metadata": {},
   "outputs": [],
   "source": [
    "# create a log file\n",
    "logging.basicConfig(filename=f'log_{time.strftime(\"%Y%m%d-%H%M%S\")}.txt', level=10)\n",
    "logging.info('Starting Analysis')\n",
    "logging.info('Read alignment and query inputs')\n"
   ]
  },
  {
   "cell_type": "code",
   "execution_count": 53,
   "metadata": {},
   "outputs": [
    {
     "ename": "FileNotFoundError",
     "evalue": "[Errno 2] No such file or directory: '../data/test_4/sample_query_4.txt'",
     "output_type": "error",
     "traceback": [
      "\u001b[0;31m---------------------------------------------------------------------------\u001b[0m",
      "\u001b[0;31mFileNotFoundError\u001b[0m                         Traceback (most recent call last)",
      "\u001b[0;32m<ipython-input-53-78ca626514bb>\u001b[0m in \u001b[0;36m<module>\u001b[0;34m\u001b[0m\n\u001b[1;32m      1\u001b[0m \u001b[0;31m# read data as vaex dataframe\u001b[0m\u001b[0;34m\u001b[0m\u001b[0;34m\u001b[0m\u001b[0;34m\u001b[0m\u001b[0m\n\u001b[1;32m      2\u001b[0m \u001b[0msequence_alignment\u001b[0m \u001b[0;34m=\u001b[0m \u001b[0mvaex\u001b[0m\u001b[0;34m.\u001b[0m\u001b[0mread_csv\u001b[0m\u001b[0;34m(\u001b[0m\u001b[0;34m'../data/test_3/sample_alignment_3.txt'\u001b[0m\u001b[0;34m,\u001b[0m \u001b[0mchunk_size\u001b[0m\u001b[0;34m=\u001b[0m\u001b[0;36m1000000\u001b[0m\u001b[0;34m,\u001b[0m\u001b[0mconvert\u001b[0m\u001b[0;34m=\u001b[0m\u001b[0;32mTrue\u001b[0m\u001b[0;34m,\u001b[0m \u001b[0msep\u001b[0m\u001b[0;34m=\u001b[0m\u001b[0;34m'\\t'\u001b[0m\u001b[0;34m,\u001b[0m \u001b[0mheader\u001b[0m\u001b[0;34m=\u001b[0m\u001b[0;32mNone\u001b[0m\u001b[0;34m)\u001b[0m\u001b[0;34m\u001b[0m\u001b[0;34m\u001b[0m\u001b[0m\n\u001b[0;32m----> 3\u001b[0;31m \u001b[0mquery_sequence\u001b[0m \u001b[0;34m=\u001b[0m \u001b[0mvaex\u001b[0m\u001b[0;34m.\u001b[0m\u001b[0mread_csv\u001b[0m\u001b[0;34m(\u001b[0m\u001b[0;34m'../data/test_4/sample_query_4.txt'\u001b[0m\u001b[0;34m,\u001b[0m \u001b[0mchunk_size\u001b[0m\u001b[0;34m=\u001b[0m\u001b[0;36m10000\u001b[0m\u001b[0;34m,\u001b[0m \u001b[0mconvert\u001b[0m\u001b[0;34m=\u001b[0m\u001b[0;32mTrue\u001b[0m\u001b[0;34m,\u001b[0m \u001b[0msep\u001b[0m\u001b[0;34m=\u001b[0m\u001b[0;34m'\\t'\u001b[0m\u001b[0;34m,\u001b[0m \u001b[0mheader\u001b[0m\u001b[0;34m=\u001b[0m\u001b[0;32mNone\u001b[0m\u001b[0;34m)\u001b[0m\u001b[0;34m\u001b[0m\u001b[0;34m\u001b[0m\u001b[0m\n\u001b[0m",
      "\u001b[0;32m~/opt/anaconda3/lib/python3.7/site-packages/vaex/__init__.py\u001b[0m in \u001b[0;36mread_csv\u001b[0;34m(filepath_or_buffer, **kwargs)\u001b[0m\n\u001b[1;32m    592\u001b[0m \u001b[0;32mdef\u001b[0m \u001b[0mread_csv\u001b[0m\u001b[0;34m(\u001b[0m\u001b[0mfilepath_or_buffer\u001b[0m\u001b[0;34m,\u001b[0m \u001b[0;34m**\u001b[0m\u001b[0mkwargs\u001b[0m\u001b[0;34m)\u001b[0m\u001b[0;34m:\u001b[0m\u001b[0;34m\u001b[0m\u001b[0;34m\u001b[0m\u001b[0m\n\u001b[1;32m    593\u001b[0m     \u001b[0;34m'''Alias to from_csv.'''\u001b[0m\u001b[0;34m\u001b[0m\u001b[0;34m\u001b[0m\u001b[0m\n\u001b[0;32m--> 594\u001b[0;31m     \u001b[0;32mreturn\u001b[0m \u001b[0mfrom_csv\u001b[0m\u001b[0;34m(\u001b[0m\u001b[0mfilepath_or_buffer\u001b[0m\u001b[0;34m,\u001b[0m \u001b[0;34m**\u001b[0m\u001b[0mkwargs\u001b[0m\u001b[0;34m)\u001b[0m\u001b[0;34m\u001b[0m\u001b[0;34m\u001b[0m\u001b[0m\n\u001b[0m\u001b[1;32m    595\u001b[0m \u001b[0;34m\u001b[0m\u001b[0m\n\u001b[1;32m    596\u001b[0m \u001b[0maliases\u001b[0m \u001b[0;34m=\u001b[0m \u001b[0mvaex\u001b[0m\u001b[0;34m.\u001b[0m\u001b[0msettings\u001b[0m\u001b[0;34m.\u001b[0m\u001b[0maliases\u001b[0m\u001b[0;34m\u001b[0m\u001b[0;34m\u001b[0m\u001b[0m\n",
      "\u001b[0;32m~/opt/anaconda3/lib/python3.7/site-packages/vaex/__init__.py\u001b[0m in \u001b[0;36mfrom_csv\u001b[0;34m(filename_or_buffer, copy_index, chunk_size, convert, fs_options, fs, progress, **kwargs)\u001b[0m\n\u001b[1;32m    571\u001b[0m             \u001b[0mcopy_index\u001b[0m\u001b[0;34m=\u001b[0m\u001b[0mcopy_index\u001b[0m\u001b[0;34m,\u001b[0m\u001b[0;34m\u001b[0m\u001b[0;34m\u001b[0m\u001b[0m\n\u001b[1;32m    572\u001b[0m             \u001b[0mprogress\u001b[0m\u001b[0;34m=\u001b[0m\u001b[0mprogress\u001b[0m\u001b[0;34m,\u001b[0m\u001b[0;34m\u001b[0m\u001b[0;34m\u001b[0m\u001b[0m\n\u001b[0;32m--> 573\u001b[0;31m             \u001b[0;34m**\u001b[0m\u001b[0mkwargs\u001b[0m\u001b[0;34m\u001b[0m\u001b[0;34m\u001b[0m\u001b[0m\n\u001b[0m\u001b[1;32m    574\u001b[0m         )\n\u001b[1;32m    575\u001b[0m         \u001b[0;32mreturn\u001b[0m \u001b[0mopen\u001b[0m\u001b[0;34m(\u001b[0m\u001b[0mpath_output\u001b[0m\u001b[0;34m,\u001b[0m \u001b[0mfs_options\u001b[0m\u001b[0;34m=\u001b[0m\u001b[0mfs_options\u001b[0m\u001b[0;34m,\u001b[0m \u001b[0mfs\u001b[0m\u001b[0;34m=\u001b[0m\u001b[0mfs\u001b[0m\u001b[0;34m)\u001b[0m\u001b[0;34m\u001b[0m\u001b[0;34m\u001b[0m\u001b[0m\n",
      "\u001b[0;32m~/opt/anaconda3/lib/python3.7/site-packages/vaex/convert.py\u001b[0m in \u001b[0;36mconvert_csv\u001b[0;34m(path_input, fs_options_input, fs_input, path_output, fs_options_output, fs_output, progress, *args, **kwargs)\u001b[0m\n\u001b[1;32m     50\u001b[0m             \u001b[0mkwargs\u001b[0m\u001b[0;34m[\u001b[0m\u001b[0;34m'chunk_size'\u001b[0m\u001b[0;34m]\u001b[0m \u001b[0;34m=\u001b[0m \u001b[0;36m5_000_000\u001b[0m\u001b[0;34m\u001b[0m\u001b[0;34m\u001b[0m\u001b[0m\n\u001b[1;32m     51\u001b[0m         \u001b[0m_from_csv_convert_and_read\u001b[0m\u001b[0;34m(\u001b[0m\u001b[0mpath_input\u001b[0m\u001b[0;34m,\u001b[0m \u001b[0mpath_output\u001b[0m\u001b[0;34m=\u001b[0m\u001b[0mpath_output\u001b[0m\u001b[0;34m,\u001b[0m \u001b[0mfs_options\u001b[0m\u001b[0;34m=\u001b[0m\u001b[0mfs_options_input\u001b[0m\u001b[0;34m,\u001b[0m \u001b[0mfs\u001b[0m\u001b[0;34m=\u001b[0m\u001b[0mfs_input\u001b[0m\u001b[0;34m,\u001b[0m \u001b[0mprogress\u001b[0m\u001b[0;34m=\u001b[0m\u001b[0mprogress\u001b[0m\u001b[0;34m,\u001b[0m \u001b[0;34m**\u001b[0m\u001b[0mkwargs\u001b[0m\u001b[0;34m)\u001b[0m\u001b[0;34m\u001b[0m\u001b[0;34m\u001b[0m\u001b[0m\n\u001b[0;32m---> 52\u001b[0;31m     \u001b[0mcached_output\u001b[0m\u001b[0;34m(\u001b[0m\u001b[0;34m*\u001b[0m\u001b[0margs\u001b[0m\u001b[0;34m,\u001b[0m \u001b[0;34m**\u001b[0m\u001b[0mkwargs\u001b[0m\u001b[0;34m)\u001b[0m\u001b[0;34m\u001b[0m\u001b[0;34m\u001b[0m\u001b[0m\n\u001b[0m\u001b[1;32m     53\u001b[0m \u001b[0;34m\u001b[0m\u001b[0m\n\u001b[1;32m     54\u001b[0m \u001b[0;34m\u001b[0m\u001b[0m\n",
      "\u001b[0;32m~/opt/anaconda3/lib/python3.7/site-packages/vaex/cache.py\u001b[0m in \u001b[0;36mcall\u001b[0;34m(callable, *args, **kwargs)\u001b[0m\n\u001b[1;32m    408\u001b[0m                 \u001b[0mpath_output_meta\u001b[0m \u001b[0;34m=\u001b[0m \u001b[0mbase\u001b[0m \u001b[0;34m+\u001b[0m \u001b[0;34m'.yaml'\u001b[0m\u001b[0;34m\u001b[0m\u001b[0;34m\u001b[0m\u001b[0m\n\u001b[1;32m    409\u001b[0m                 \u001b[0;31m# this fingerprint changes if input changes, or args, or kwargs\u001b[0m\u001b[0;34m\u001b[0m\u001b[0;34m\u001b[0m\u001b[0;34m\u001b[0m\u001b[0m\n\u001b[0;32m--> 410\u001b[0;31m                 \u001b[0mfp\u001b[0m \u001b[0;34m=\u001b[0m \u001b[0mfingerprint\u001b[0m\u001b[0;34m(\u001b[0m\u001b[0mvaex\u001b[0m\u001b[0;34m.\u001b[0m\u001b[0mfile\u001b[0m\u001b[0;34m.\u001b[0m\u001b[0mfingerprint\u001b[0m\u001b[0;34m(\u001b[0m\u001b[0mpath_input\u001b[0m\u001b[0;34m,\u001b[0m \u001b[0mfs_options_input\u001b[0m\u001b[0;34m,\u001b[0m \u001b[0mfs\u001b[0m\u001b[0;34m=\u001b[0m\u001b[0mfs_input\u001b[0m\u001b[0;34m)\u001b[0m\u001b[0;34m,\u001b[0m \u001b[0margs\u001b[0m\u001b[0;34m,\u001b[0m \u001b[0mkwargs\u001b[0m\u001b[0;34m)\u001b[0m\u001b[0;34m\u001b[0m\u001b[0;34m\u001b[0m\u001b[0m\n\u001b[0m\u001b[1;32m    411\u001b[0m \u001b[0;34m\u001b[0m\u001b[0m\n\u001b[1;32m    412\u001b[0m                 \u001b[0;32mdef\u001b[0m \u001b[0mwrite_fingerprint\u001b[0m\u001b[0;34m(\u001b[0m\u001b[0;34m)\u001b[0m\u001b[0;34m:\u001b[0m\u001b[0;34m\u001b[0m\u001b[0;34m\u001b[0m\u001b[0m\n",
      "\u001b[0;32m~/opt/anaconda3/lib/python3.7/site-packages/vaex/file/__init__.py\u001b[0m in \u001b[0;36mfingerprint\u001b[0;34m(path, fs_options, fs)\u001b[0m\n\u001b[1;32m    247\u001b[0m     \u001b[0mpath\u001b[0m \u001b[0;34m=\u001b[0m \u001b[0mstringyfy\u001b[0m\u001b[0;34m(\u001b[0m\u001b[0mpath\u001b[0m\u001b[0;34m)\u001b[0m\u001b[0;34m\u001b[0m\u001b[0;34m\u001b[0m\u001b[0m\n\u001b[1;32m    248\u001b[0m     \u001b[0;32mif\u001b[0m \u001b[0mfs\u001b[0m \u001b[0;32mis\u001b[0m \u001b[0;32mNone\u001b[0m\u001b[0;34m:\u001b[0m\u001b[0;34m\u001b[0m\u001b[0;34m\u001b[0m\u001b[0m\n\u001b[0;32m--> 249\u001b[0;31m         \u001b[0mmtime\u001b[0m \u001b[0;34m=\u001b[0m \u001b[0mos\u001b[0m\u001b[0;34m.\u001b[0m\u001b[0mpath\u001b[0m\u001b[0;34m.\u001b[0m\u001b[0mgetmtime\u001b[0m\u001b[0;34m(\u001b[0m\u001b[0mpath\u001b[0m\u001b[0;34m)\u001b[0m\u001b[0;34m\u001b[0m\u001b[0;34m\u001b[0m\u001b[0m\n\u001b[0m\u001b[1;32m    250\u001b[0m         \u001b[0msize\u001b[0m \u001b[0;34m=\u001b[0m \u001b[0mos\u001b[0m\u001b[0;34m.\u001b[0m\u001b[0mpath\u001b[0m\u001b[0;34m.\u001b[0m\u001b[0mgetsize\u001b[0m\u001b[0;34m(\u001b[0m\u001b[0mpath\u001b[0m\u001b[0;34m)\u001b[0m\u001b[0;34m\u001b[0m\u001b[0;34m\u001b[0m\u001b[0m\n\u001b[1;32m    251\u001b[0m     \u001b[0;32melse\u001b[0m\u001b[0;34m:\u001b[0m\u001b[0;34m\u001b[0m\u001b[0;34m\u001b[0m\u001b[0m\n",
      "\u001b[0;32m~/opt/anaconda3/lib/python3.7/genericpath.py\u001b[0m in \u001b[0;36mgetmtime\u001b[0;34m(filename)\u001b[0m\n\u001b[1;32m     53\u001b[0m \u001b[0;32mdef\u001b[0m \u001b[0mgetmtime\u001b[0m\u001b[0;34m(\u001b[0m\u001b[0mfilename\u001b[0m\u001b[0;34m)\u001b[0m\u001b[0;34m:\u001b[0m\u001b[0;34m\u001b[0m\u001b[0;34m\u001b[0m\u001b[0m\n\u001b[1;32m     54\u001b[0m     \u001b[0;34m\"\"\"Return the last modification time of a file, reported by os.stat().\"\"\"\u001b[0m\u001b[0;34m\u001b[0m\u001b[0;34m\u001b[0m\u001b[0m\n\u001b[0;32m---> 55\u001b[0;31m     \u001b[0;32mreturn\u001b[0m \u001b[0mos\u001b[0m\u001b[0;34m.\u001b[0m\u001b[0mstat\u001b[0m\u001b[0;34m(\u001b[0m\u001b[0mfilename\u001b[0m\u001b[0;34m)\u001b[0m\u001b[0;34m.\u001b[0m\u001b[0mst_mtime\u001b[0m\u001b[0;34m\u001b[0m\u001b[0;34m\u001b[0m\u001b[0m\n\u001b[0m\u001b[1;32m     56\u001b[0m \u001b[0;34m\u001b[0m\u001b[0m\n\u001b[1;32m     57\u001b[0m \u001b[0;34m\u001b[0m\u001b[0m\n",
      "\u001b[0;31mFileNotFoundError\u001b[0m: [Errno 2] No such file or directory: '../data/test_4/sample_query_4.txt'"
     ]
    }
   ],
   "source": [
    "# read data as vaex dataframe\n",
    "sequence_alignment = vaex.read_csv('../data/test_3/sample_alignment_3.txt', chunk_size=1000000,convert=True, sep='\\t', header=None)\n",
    "query_sequence = vaex.read_csv('../data/test_4/sample_query_4.txt', chunk_size=10000, convert=True, sep='\\t', header=None)\n"
   ]
  },
  {
   "cell_type": "code",
   "execution_count": 51,
   "metadata": {},
   "outputs": [
    {
     "data": {
      "text/html": [
       "<table>\n",
       "<thead>\n",
       "<tr><th>#                                     </th><th>0        </th><th>1    </th><th>2        </th><th>3       </th></tr>\n",
       "</thead>\n",
       "<tbody>\n",
       "<tr><td><i style='opacity: 0.6'>0</i>         </td><td>TR2456282</td><td>chr14</td><td>64416601 </td><td>76M     </td></tr>\n",
       "<tr><td><i style='opacity: 0.6'>1</i>         </td><td>TR2578233</td><td>chr14</td><td>77744543 </td><td>72M     </td></tr>\n",
       "<tr><td><i style='opacity: 0.6'>2</i>         </td><td>TR231400 </td><td>chr2 </td><td>71753385 </td><td>76M     </td></tr>\n",
       "<tr><td><i style='opacity: 0.6'>3</i>         </td><td>TR3126806</td><td>chrX </td><td>32632468 </td><td>76M     </td></tr>\n",
       "<tr><td><i style='opacity: 0.6'>4</i>         </td><td>TR467682 </td><td>chr2 </td><td>179427014</td><td>72M     </td></tr>\n",
       "<tr><td>...                                   </td><td>...      </td><td>...  </td><td>...      </td><td>...     </td></tr>\n",
       "<tr><td><i style='opacity: 0.6'>38,025,693</i></td><td>TR3065738</td><td>chr22</td><td>51064028 </td><td>75M     </td></tr>\n",
       "<tr><td><i style='opacity: 0.6'>38,025,694</i></td><td>TR2136443</td><td>chr9 </td><td>119460446</td><td>73M     </td></tr>\n",
       "<tr><td><i style='opacity: 0.6'>38,025,695</i></td><td>TR1601816</td><td>chr6 </td><td>129707187</td><td>31M1D45M</td></tr>\n",
       "<tr><td><i style='opacity: 0.6'>38,025,696</i></td><td>TR2657268</td><td>chr15</td><td>42695968 </td><td>72M     </td></tr>\n",
       "<tr><td><i style='opacity: 0.6'>38,025,697</i></td><td>TR3174222</td><td>chrX </td><td>148579580</td><td>76M     </td></tr>\n",
       "</tbody>\n",
       "</table>"
      ],
      "text/plain": [
       "#           0          1      2          3\n",
       "0           TR2456282  chr14  64416601   76M\n",
       "1           TR2578233  chr14  77744543   72M\n",
       "2           TR231400   chr2   71753385   76M\n",
       "3           TR3126806  chrX   32632468   76M\n",
       "4           TR467682   chr2   179427014  72M\n",
       "...         ...        ...    ...        ...\n",
       "38,025,693  TR3065738  chr22  51064028   75M\n",
       "38,025,694  TR2136443  chr9   119460446  73M\n",
       "38,025,695  TR1601816  chr6   129707187  31M1D45M\n",
       "38,025,696  TR2657268  chr15  42695968   72M\n",
       "38,025,697  TR3174222  chrX   148579580  76M"
      ]
     },
     "execution_count": 51,
     "metadata": {},
     "output_type": "execute_result"
    }
   ],
   "source": [
    "sequence_alignment"
   ]
  },
  {
   "cell_type": "code",
   "execution_count": 52,
   "metadata": {},
   "outputs": [
    {
     "data": {
      "text/html": [
       "<table>\n",
       "<thead>\n",
       "<tr><th>#                            </th><th>0       </th><th style=\"text-align: right;\">  1</th></tr>\n",
       "</thead>\n",
       "<tbody>\n",
       "<tr><td><i style='opacity: 0.6'>0</i></td><td>TR177264</td><td style=\"text-align: right;\"> 35</td></tr>\n",
       "<tr><td><i style='opacity: 0.6'>1</i></td><td>TR98394 </td><td style=\"text-align: right;\"> 72</td></tr>\n",
       "<tr><td><i style='opacity: 0.6'>2</i></td><td>TR69408 </td><td style=\"text-align: right;\"> 27</td></tr>\n",
       "<tr><td><i style='opacity: 0.6'>3</i></td><td>TR27181 </td><td style=\"text-align: right;\"> 52</td></tr>\n",
       "<tr><td><i style='opacity: 0.6'>4</i></td><td>TR198924</td><td style=\"text-align: right;\"> 12</td></tr>\n",
       "<tr><td><i style='opacity: 0.6'>5</i></td><td>TR104209</td><td style=\"text-align: right;\"> 12</td></tr>\n",
       "<tr><td><i style='opacity: 0.6'>6</i></td><td>TR219971</td><td style=\"text-align: right;\"> 65</td></tr>\n",
       "<tr><td><i style='opacity: 0.6'>7</i></td><td>TR176174</td><td style=\"text-align: right;\"> 48</td></tr>\n",
       "<tr><td><i style='opacity: 0.6'>8</i></td><td>TR258300</td><td style=\"text-align: right;\"> 69</td></tr>\n",
       "<tr><td><i style='opacity: 0.6'>9</i></td><td>TR244028</td><td style=\"text-align: right;\"> 41</td></tr>\n",
       "</tbody>\n",
       "</table>"
      ],
      "text/plain": [
       "  #  0           1\n",
       "  0  TR177264   35\n",
       "  1  TR98394    72\n",
       "  2  TR69408    27\n",
       "  3  TR27181    52\n",
       "  4  TR198924   12\n",
       "  5  TR104209   12\n",
       "  6  TR219971   65\n",
       "  7  TR176174   48\n",
       "  8  TR258300   69\n",
       "  9  TR244028   41"
      ]
     },
     "execution_count": 52,
     "metadata": {},
     "output_type": "execute_result"
    }
   ],
   "source": [
    "query_sequence"
   ]
  },
  {
   "cell_type": "code",
   "execution_count": 37,
   "metadata": {},
   "outputs": [],
   "source": [
    "def process_query_to_ref_position(cigar_string, ref_start_position, query_index):\n",
    "    '''To get reference position for a given query sequence index and its cigar string'''\n",
    "    ref_array = np.array([]).astype('int32')\n",
    "    query_array = np.array([]).astype('int32')\n",
    "    query_start_position = 0\n",
    "    try:\n",
    "        string_info = re.findall(r'(\\d+)(\\w)', cigar_string)\n",
    "    except ValueError as e:\n",
    "        logging.info(f\"Not a valid CIGAR string {cigar_string}\")\n",
    "        logging.exception(e)\n",
    "\n",
    "    for number, operator in string_info:\n",
    "        # assess whether the CIGAR operators are valid\n",
    "        if operator not in ['M', 'I', 'D', 'N', 'S', 'H', 'P', '=', 'X']:\n",
    "            raise Exception(f\"Not a valid CIGAR operator {operator}: \\\n",
    "                            {cigar_string}\")\n",
    "\n",
    "        if operator in ['M', '=', 'X']:\n",
    "            # present in query and reference\n",
    "            ref_position = range(\n",
    "                                    ref_start_position,\n",
    "                                    ref_start_position+int(number))\n",
    "            query_position = range(\n",
    "                                    query_start_position,\n",
    "                                    query_start_position+int(number))\n",
    "            ref_array = np.append(ref_array, list(ref_position))\n",
    "            query_array = np.append(query_array, list(query_position))\n",
    "            ref_start_position += int(number)\n",
    "            query_start_position += int(number)\n",
    "        if operator in ['D', 'N']:\n",
    "            # present in reference only\n",
    "            ref_position = range(\n",
    "                                    ref_start_position,\n",
    "                                    ref_start_position+int(number))\n",
    "            query_position = [query_start_position]*int(number)\n",
    "            ref_array = np.append(ref_array, list(ref_position))\n",
    "            query_array = np.append(query_array, query_position)\n",
    "            ref_start_position += int(number)\n",
    "        if operator in ['I', 'S']:\n",
    "            # present in query only\n",
    "            ref_position = [ref_start_position]*int(number)\n",
    "            query_position = range(\n",
    "                                    query_start_position,\n",
    "                                    query_start_position+int(number))\n",
    "            ref_array = np.append(ref_array, ref_position)\n",
    "            query_array = np.append(query_array, list(query_position))\n",
    "            query_start_position += int(number)\n",
    "        if operator in ['H', 'P']:\n",
    "            # present in none\n",
    "            ref_position = [ref_start_position]*int(number)\n",
    "            query_position = [query_start_position]*int(number)\n",
    "            ref_array = np.append(ref_array, ref_position)\n",
    "            query_array = np.append(query_array, query_position)\n",
    "    logging.info(f'{cigar_string}\\t{string_info}\\t{ref_array}\\t{query_array}')\n",
    "    \n",
    "    try:\n",
    "        len(ref_array) == len(query_array)\n",
    "    except ValueError as e:\n",
    "        logging.info(f\"Reference array and query array are not equal\")\n",
    "        logging.exception(e)\n",
    "\n",
    "    \n",
    "    try:\n",
    "        ref_position = int(ref_array[list(query_array).index(query_index)])\n",
    "    except ValueError as e:\n",
    "        ref_position = -1\n",
    "        logging.debug(f'Not a valid query position {query_index}')\n",
    "        logging.exception(e)\n",
    "\n",
    "    return ref_position"
   ]
  },
  {
   "cell_type": "code",
   "execution_count": 38,
   "metadata": {},
   "outputs": [],
   "source": [
    "def get_output(tx_id, query_position):\n",
    "    '''To get desired output by applying the function on query dataframe'''\n",
    "    try:\n",
    "        records = sequence_alignment[sequence_alignment['0'] == tx_id]\n",
    "        if len(records) >= 1:\n",
    "            logging.debug(f'There are multiple alignments for {tx_id}')\n",
    "            chrom = records.to_records()[0]['1']\n",
    "            ref_start = records.to_records()[0]['2']\n",
    "            cigar_string = records.to_records()[0]['3']\n",
    "            ref_position = process_query_to_ref_position(cigar_string, ref_start, query_position)\n",
    "        if len(records) == 0 :\n",
    "            logging.debug(f'There is no transcript id in alignment {tx_id}')\n",
    "            chrom = ''\n",
    "            ref_start = 0\n",
    "            cigar_string = ''\n",
    "            ref_position = -1\n",
    "    except IndexError as e:\n",
    "        chrom = ''\n",
    "        ref_position = -1\n",
    "        logging.info(f'There are no transcripts in alignment for {tx_id}')\n",
    "    return((chrom,ref_position))"
   ]
  },
  {
   "cell_type": "code",
   "execution_count": 46,
   "metadata": {},
   "outputs": [],
   "source": [
    "res = query_sequence.apply(get_output, arguments=[query_sequence['0'],query_sequence['1']], vectorize=False)\n",
    "res = res.evaluate()"
   ]
  },
  {
   "cell_type": "code",
   "execution_count": 47,
   "metadata": {},
   "outputs": [],
   "source": [
    "res_vx = vaex.from_pandas(pd.DataFrame(res))"
   ]
  },
  {
   "cell_type": "code",
   "execution_count": 48,
   "metadata": {},
   "outputs": [],
   "source": [
    "query_sequence = query_sequence.join(res_vx,lprefix='left')"
   ]
  },
  {
   "cell_type": "code",
   "execution_count": 49,
   "metadata": {},
   "outputs": [
    {
     "data": {
      "text/html": [
       "<table>\n",
       "<thead>\n",
       "<tr><th>#                            </th><th>left0  </th><th style=\"text-align: right;\">  left1</th><th>0   </th><th style=\"text-align: right;\">       1</th></tr>\n",
       "</thead>\n",
       "<tbody>\n",
       "<tr><td><i style='opacity: 0.6'>0</i></td><td>TR2131 </td><td style=\"text-align: right;\">     71</td><td>chr1</td><td style=\"text-align: right;\"> 9738412</td></tr>\n",
       "<tr><td><i style='opacity: 0.6'>1</i></td><td>TR2542 </td><td style=\"text-align: right;\">     41</td><td>chr1</td><td style=\"text-align: right;\">12108296</td></tr>\n",
       "<tr><td><i style='opacity: 0.6'>2</i></td><td>TR1788 </td><td style=\"text-align: right;\">     52</td><td>chr1</td><td style=\"text-align: right;\"> 7587184</td></tr>\n",
       "<tr><td><i style='opacity: 0.6'>3</i></td><td>TR1417 </td><td style=\"text-align: right;\">      6</td><td>chr1</td><td style=\"text-align: right;\"> 5969898</td></tr>\n",
       "<tr><td><i style='opacity: 0.6'>4</i></td><td>TR1657 </td><td style=\"text-align: right;\">     66</td><td>chr1</td><td style=\"text-align: right;\"> 6815045</td></tr>\n",
       "<tr><td><i style='opacity: 0.6'>5</i></td><td>TR18   </td><td style=\"text-align: right;\">     35</td><td>chrM</td><td style=\"text-align: right;\">    2531</td></tr>\n",
       "<tr><td><i style='opacity: 0.6'>6</i></td><td>TR2880 </td><td style=\"text-align: right;\">     36</td><td>chr1</td><td style=\"text-align: right;\">15170642</td></tr>\n",
       "<tr><td><i style='opacity: 0.6'>7</i></td><td>TR135  </td><td style=\"text-align: right;\">     10</td><td>chr1</td><td style=\"text-align: right;\">  536812</td></tr>\n",
       "<tr><td><i style='opacity: 0.6'>8</i></td><td>TR2709 </td><td style=\"text-align: right;\">     34</td><td>chr1</td><td style=\"text-align: right;\">13690241</td></tr>\n",
       "<tr><td><i style='opacity: 0.6'>9</i></td><td>TR2571 </td><td style=\"text-align: right;\">     46</td><td>chr1</td><td style=\"text-align: right;\">12236289</td></tr>\n",
       "</tbody>\n",
       "</table>"
      ],
      "text/plain": [
       "  #  left0      left1  0            1\n",
       "  0  TR2131        71  chr1   9738412\n",
       "  1  TR2542        41  chr1  12108296\n",
       "  2  TR1788        52  chr1   7587184\n",
       "  3  TR1417         6  chr1   5969898\n",
       "  4  TR1657        66  chr1   6815045\n",
       "  5  TR18          35  chrM      2531\n",
       "  6  TR2880        36  chr1  15170642\n",
       "  7  TR135         10  chr1    536812\n",
       "  8  TR2709        34  chr1  13690241\n",
       "  9  TR2571        46  chr1  12236289"
      ]
     },
     "execution_count": 49,
     "metadata": {},
     "output_type": "execute_result"
    }
   ],
   "source": [
    "query_sequence"
   ]
  },
  {
   "cell_type": "code",
   "execution_count": 13,
   "metadata": {},
   "outputs": [],
   "source": [
    "query_sequence.export_csv('test.csv', sep='\\t', index=False, header=False)"
   ]
  },
  {
   "cell_type": "code",
   "execution_count": null,
   "metadata": {},
   "outputs": [],
   "source": []
  }
 ],
 "metadata": {
  "kernelspec": {
   "display_name": "Python 3.7.4 ('base')",
   "language": "python",
   "name": "python3"
  },
  "language_info": {
   "codemirror_mode": {
    "name": "ipython",
    "version": 3
   },
   "file_extension": ".py",
   "mimetype": "text/x-python",
   "name": "python",
   "nbconvert_exporter": "python",
   "pygments_lexer": "ipython3",
   "version": "3.7.4"
  },
  "vscode": {
   "interpreter": {
    "hash": "946850d65b81e46b3751ad7bd4a99dae93c81d5c5761a7b712c3c7d31915c22b"
   }
  }
 },
 "nbformat": 4,
 "nbformat_minor": 2
}
