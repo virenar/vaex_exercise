{
 "cells": [
  {
   "cell_type": "code",
   "execution_count": 1,
   "metadata": {},
   "outputs": [],
   "source": [
    "import pandas as pd\n",
    "import numpy as np\n",
    "import re\n",
    "import time\n",
    "import logging\n",
    "import vaex"
   ]
  },
  {
   "cell_type": "code",
   "execution_count": 2,
   "metadata": {},
   "outputs": [],
   "source": [
    "# create a log file\n",
    "logging.basicConfig(filename=f'log_{time.strftime(\"%Y%m%d-%H%M%S\")}.txt', level=10)\n",
    "logging.info('Starting Analysis')\n",
    "logging.info('Read alignment and query inputs')\n"
   ]
  },
  {
   "cell_type": "code",
   "execution_count": 3,
   "metadata": {},
   "outputs": [],
   "source": [
    "# read data as vaex dataframe\n",
    "sequence_alignment = vaex.read_csv('../data/small_test/sample_alignment.txt', chunk_size=1000000,convert=True, sep='\\t', header=None)\n",
    "query_sequence = vaex.read_csv('../data/small_test/sample_query.txt', chunk_size=10000, convert=True, sep='\\t', header=None)\n"
   ]
  },
  {
   "cell_type": "code",
   "execution_count": 4,
   "metadata": {},
   "outputs": [
    {
     "data": {
      "text/plain": [
       "{'vaex': '4.9.2',\n",
       " 'vaex-core': '4.9.2',\n",
       " 'vaex-viz': '0.5.2',\n",
       " 'vaex-hdf5': '0.12.2',\n",
       " 'vaex-server': '0.8.1',\n",
       " 'vaex-astro': '0.9.1',\n",
       " 'vaex-jupyter': '0.8.0',\n",
       " 'vaex-ml': '0.17.0'}"
      ]
     },
     "execution_count": 4,
     "metadata": {},
     "output_type": "execute_result"
    }
   ],
   "source": [
    "\n",
    "vaex.__version__"
   ]
  },
  {
   "cell_type": "code",
   "execution_count": 5,
   "metadata": {},
   "outputs": [
    {
     "data": {
      "text/html": [
       "<table>\n",
       "<thead>\n",
       "<tr><th>#                            </th><th>0  </th><th>1   </th><th style=\"text-align: right;\">  2</th><th>3              </th></tr>\n",
       "</thead>\n",
       "<tbody>\n",
       "<tr><td><i style='opacity: 0.6'>0</i></td><td>TR1</td><td>CHR1</td><td style=\"text-align: right;\">  3</td><td>8M7D6M2I2M11D7M</td></tr>\n",
       "<tr><td><i style='opacity: 0.6'>1</i></td><td>TR2</td><td>CHR2</td><td style=\"text-align: right;\"> 10</td><td>20M            </td></tr>\n",
       "</tbody>\n",
       "</table>"
      ],
      "text/plain": [
       "  #  0    1       2  3\n",
       "  0  TR1  CHR1    3  8M7D6M2I2M11D7M\n",
       "  1  TR2  CHR2   10  20M"
      ]
     },
     "execution_count": 5,
     "metadata": {},
     "output_type": "execute_result"
    }
   ],
   "source": [
    "sequence_alignment"
   ]
  },
  {
   "cell_type": "code",
   "execution_count": 6,
   "metadata": {},
   "outputs": [
    {
     "data": {
      "text/html": [
       "<table>\n",
       "<thead>\n",
       "<tr><th>#                            </th><th>0  </th><th style=\"text-align: right;\">  1</th></tr>\n",
       "</thead>\n",
       "<tbody>\n",
       "<tr><td><i style='opacity: 0.6'>0</i></td><td>TR1</td><td style=\"text-align: right;\">  4</td></tr>\n",
       "<tr><td><i style='opacity: 0.6'>1</i></td><td>TR2</td><td style=\"text-align: right;\">  0</td></tr>\n",
       "<tr><td><i style='opacity: 0.6'>2</i></td><td>TR1</td><td style=\"text-align: right;\"> 13</td></tr>\n",
       "<tr><td><i style='opacity: 0.6'>3</i></td><td>TR2</td><td style=\"text-align: right;\"> 10</td></tr>\n",
       "</tbody>\n",
       "</table>"
      ],
      "text/plain": [
       "  #  0      1\n",
       "  0  TR1    4\n",
       "  1  TR2    0\n",
       "  2  TR1   13\n",
       "  3  TR2   10"
      ]
     },
     "execution_count": 6,
     "metadata": {},
     "output_type": "execute_result"
    }
   ],
   "source": [
    "query_sequence"
   ]
  },
  {
   "cell_type": "code",
   "execution_count": 7,
   "metadata": {},
   "outputs": [],
   "source": [
    "def process_query_to_ref_position(cigar_string, ref_start_position, query_index):\n",
    "    '''To get reference position for a given query sequence index and its cigar string'''\n",
    "    ref_array = np.array([]).astype('int32')\n",
    "    query_array = np.array([]).astype('int32')\n",
    "    query_start_position = 0\n",
    "    try:\n",
    "        string_info = re.findall(r'(\\d+)(\\w)', cigar_string)\n",
    "    except ValueError as e:\n",
    "        logging.info(f\"Not a valid CIGAR string {cigar_string}\")\n",
    "        logging.exception(e)\n",
    "\n",
    "    for number, operator in string_info:\n",
    "        # assess whether the CIGAR operators are valid\n",
    "        if operator not in ['M', 'I', 'D', 'N', 'S', 'H', 'P', '=', 'X']:\n",
    "            raise Exception(f\"Not a valid CIGAR operator {operator}: \\\n",
    "                            {cigar_string}\")\n",
    "\n",
    "        if operator in ['M', '=', 'X']:\n",
    "            # present in query and reference\n",
    "            ref_position = range(\n",
    "                                    ref_start_position,\n",
    "                                    ref_start_position+int(number))\n",
    "            query_position = range(\n",
    "                                    query_start_position,\n",
    "                                    query_start_position+int(number))\n",
    "            ref_array = np.append(ref_array, list(ref_position))\n",
    "            query_array = np.append(query_array, list(query_position))\n",
    "            ref_start_position += int(number)\n",
    "            query_start_position += int(number)\n",
    "        if operator in ['D', 'N']:\n",
    "            # present in reference only\n",
    "            ref_position = range(\n",
    "                                    ref_start_position,\n",
    "                                    ref_start_position+int(number))\n",
    "            query_position = [query_start_position]*int(number)\n",
    "            ref_array = np.append(ref_array, list(ref_position))\n",
    "            query_array = np.append(query_array, query_position)\n",
    "            ref_start_position += int(number)\n",
    "        if operator in ['I', 'S']:\n",
    "            # present in query only\n",
    "            ref_position = [ref_start_position]*int(number)\n",
    "            query_position = range(\n",
    "                                    query_start_position,\n",
    "                                    query_start_position+int(number))\n",
    "            ref_array = np.append(ref_array, ref_position)\n",
    "            query_array = np.append(query_array, list(query_position))\n",
    "            query_start_position += int(number)\n",
    "        if operator in ['H', 'P']:\n",
    "            # present in none\n",
    "            ref_position = [ref_start_position]*int(number)\n",
    "            query_position = [query_start_position]*int(number)\n",
    "            ref_array = np.append(ref_array, ref_position)\n",
    "            query_array = np.append(query_array, query_position)\n",
    "    logging.info(f'{cigar_string}\\t{string_info}\\t{ref_array}\\t{query_array}')\n",
    "    \n",
    "    try:\n",
    "        len(ref_array) == len(query_array)\n",
    "    except ValueError as e:\n",
    "        logging.info(f\"Reference array and query array are not equal\")\n",
    "        logging.exception(e)\n",
    "\n",
    "    \n",
    "    try:\n",
    "        ref_position = int(ref_array[list(query_array).index(query_index)])\n",
    "    except ValueError as e:\n",
    "        ref_position = -1\n",
    "        logging.debug(f'Not a valid query position {query_index}')\n",
    "        logging.exception(e)\n",
    "\n",
    "    return ref_position"
   ]
  },
  {
   "cell_type": "code",
   "execution_count": 8,
   "metadata": {},
   "outputs": [],
   "source": [
    "def get_output(tx_id, query_position):\n",
    "    '''To get desired output by applying the function on query dataframe'''\n",
    "    try:\n",
    "        records = sequence_alignment[sequence_alignment['0'] == tx_id]\n",
    "        if len(records) >= 1:\n",
    "            logging.debug(f'There are multiple alignments for {tx_id}')\n",
    "            chrom = records.to_records()[0]['1']\n",
    "            ref_start = records.to_records()[0]['2']\n",
    "            cigar_string = records.to_records()[0]['3']\n",
    "            ref_position = process_query_to_ref_position(cigar_string, ref_start, query_position)\n",
    "        if len(records) == 0 :\n",
    "            logging.debug(f'There is no transcript id in alignment {tx_id}')\n",
    "            chrom = ''\n",
    "            ref_start = 0\n",
    "            cigar_string = ''\n",
    "            ref_position = -1\n",
    "    except IndexError as e:\n",
    "        chrom = ''\n",
    "        ref_position = -1\n",
    "        logging.info(f'There are no transcripts in alignment for {tx_id}')\n",
    "    return((chrom,ref_position))"
   ]
  },
  {
   "cell_type": "code",
   "execution_count": 9,
   "metadata": {},
   "outputs": [],
   "source": [
    "res = query_sequence.apply(get_output, arguments=[query_sequence['0'],query_sequence['1']], vectorize=False)\n",
    "res = res.evaluate()"
   ]
  },
  {
   "cell_type": "code",
   "execution_count": 10,
   "metadata": {},
   "outputs": [],
   "source": [
    "res_vx = vaex.from_pandas(pd.DataFrame(res))"
   ]
  },
  {
   "cell_type": "code",
   "execution_count": 11,
   "metadata": {},
   "outputs": [],
   "source": [
    "query_sequence = query_sequence.join(res_vx,lprefix='left')"
   ]
  },
  {
   "cell_type": "code",
   "execution_count": 12,
   "metadata": {},
   "outputs": [
    {
     "data": {
      "text/html": [
       "<table>\n",
       "<thead>\n",
       "<tr><th>#                            </th><th>left0  </th><th style=\"text-align: right;\">  left1</th><th>0   </th><th style=\"text-align: right;\">  1</th></tr>\n",
       "</thead>\n",
       "<tbody>\n",
       "<tr><td><i style='opacity: 0.6'>0</i></td><td>TR1    </td><td style=\"text-align: right;\">      4</td><td>CHR1</td><td style=\"text-align: right;\">  7</td></tr>\n",
       "<tr><td><i style='opacity: 0.6'>1</i></td><td>TR2    </td><td style=\"text-align: right;\">      0</td><td>CHR2</td><td style=\"text-align: right;\"> 10</td></tr>\n",
       "<tr><td><i style='opacity: 0.6'>2</i></td><td>TR1    </td><td style=\"text-align: right;\">     13</td><td>CHR1</td><td style=\"text-align: right;\"> 23</td></tr>\n",
       "<tr><td><i style='opacity: 0.6'>3</i></td><td>TR2    </td><td style=\"text-align: right;\">     10</td><td>CHR2</td><td style=\"text-align: right;\"> 20</td></tr>\n",
       "</tbody>\n",
       "</table>"
      ],
      "text/plain": [
       "  #  left0      left1  0       1\n",
       "  0  TR1            4  CHR1    7\n",
       "  1  TR2            0  CHR2   10\n",
       "  2  TR1           13  CHR1   23\n",
       "  3  TR2           10  CHR2   20"
      ]
     },
     "execution_count": 12,
     "metadata": {},
     "output_type": "execute_result"
    }
   ],
   "source": [
    "query_sequence"
   ]
  },
  {
   "cell_type": "code",
   "execution_count": 13,
   "metadata": {},
   "outputs": [],
   "source": [
    "query_sequence.export_csv('test.csv', sep='\\t', index=False, header=False)"
   ]
  },
  {
   "cell_type": "code",
   "execution_count": null,
   "metadata": {},
   "outputs": [],
   "source": []
  }
 ],
 "metadata": {
  "kernelspec": {
   "display_name": "Python 3.7.4 ('base')",
   "language": "python",
   "name": "python3"
  },
  "language_info": {
   "codemirror_mode": {
    "name": "ipython",
    "version": 3
   },
   "file_extension": ".py",
   "mimetype": "text/x-python",
   "name": "python",
   "nbconvert_exporter": "python",
   "pygments_lexer": "ipython3",
   "version": "3.7.4"
  },
  "vscode": {
   "interpreter": {
    "hash": "946850d65b81e46b3751ad7bd4a99dae93c81d5c5761a7b712c3c7d31915c22b"
   }
  }
 },
 "nbformat": 4,
 "nbformat_minor": 2
}
