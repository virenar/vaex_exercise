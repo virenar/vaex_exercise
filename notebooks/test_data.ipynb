{
 "cells": [
  {
   "cell_type": "code",
   "execution_count": 5,
   "metadata": {},
   "outputs": [],
   "source": [
    "import pysam\n",
    "import random\n",
    "import multiprocessing as mp"
   ]
  },
  {
   "cell_type": "code",
   "execution_count": 2,
   "metadata": {},
   "outputs": [],
   "source": [
    "# read a sample bam file\n",
    "sample_bam = pysam.AlignmentFile('/Users/vamin/test_codecommit/stt-ngs/work/archive/bams/2001700103-0-R0134.bam')"
   ]
  },
  {
   "cell_type": "code",
   "execution_count": 3,
   "metadata": {},
   "outputs": [],
   "source": [
    "# create dict of reads\n",
    "reads = {}\n",
    "for index, read in enumerate(sample_bam.fetch()):    \n",
    "    reads[index] = f'{read.reference_name}\\t{read.reference_start}\\t{read.cigarstring}'\n"
   ]
  },
  {
   "cell_type": "code",
   "execution_count": 9,
   "metadata": {},
   "outputs": [],
   "source": [
    "# create sample_alignment file\n",
    "data_id = 6\n",
    "alignment_count = 30000000\n",
    "\n",
    "def write_alignment(input):\n",
    "    random_read = reads[input]\n",
    "    with open(f'../data/test_{data_id}/sample_alignment_{data_id}.txt', 'a') as f:\n",
    "        f.write(f'TR{input}\\t{random_read}\\n')\n",
    "\n",
    "rnumber = [random.randint(0,index) for x in range(alignment_count)]\n",
    "p = mp.Pool(8)\n",
    "p.map(write_alignment, rnumber)\n",
    "p.close()"
   ]
  },
  {
   "cell_type": "code",
   "execution_count": 11,
   "metadata": {},
   "outputs": [],
   "source": [
    "# create a query file\n",
    "data_id = 4\n",
    "query_count = 1000\n",
    "for i in range(0,query_count):\n",
    "    with open(f'../data/test_{data_id}/sample_query_{data_id}.txt', 'a') as f:\n",
    "        f.write(f'TR{random.randint(0,index)}\\t{random.randint(0,75)}\\n')"
   ]
  },
  {
   "cell_type": "code",
   "execution_count": null,
   "metadata": {},
   "outputs": [],
   "source": []
  }
 ],
 "metadata": {
  "kernelspec": {
   "display_name": "Python 3.7.4 ('base')",
   "language": "python",
   "name": "python3"
  },
  "language_info": {
   "codemirror_mode": {
    "name": "ipython",
    "version": 3
   },
   "file_extension": ".py",
   "mimetype": "text/x-python",
   "name": "python",
   "nbconvert_exporter": "python",
   "pygments_lexer": "ipython3",
   "version": "3.7.4"
  },
  "vscode": {
   "interpreter": {
    "hash": "946850d65b81e46b3751ad7bd4a99dae93c81d5c5761a7b712c3c7d31915c22b"
   }
  }
 },
 "nbformat": 4,
 "nbformat_minor": 2
}
